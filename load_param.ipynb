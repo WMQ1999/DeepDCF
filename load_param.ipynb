{
 "cells": [
  {
   "cell_type": "code",
   "execution_count": 1,
   "metadata": {},
   "outputs": [],
   "source": [
    "import layers\r\n",
    "import torch\r\n",
    "import scipy.io as sio\r\n",
    "import layers\r\n",
    "\r\n",
    "param_pth = \"D:\\dataset\\\\vgg2048Parameters\\\\vgg.mat\"\r\n"
   ]
  },
  {
   "cell_type": "code",
   "execution_count": 2,
   "metadata": {},
   "outputs": [],
   "source": [
    "mat_contents = sio.loadmat(param_pth)\r\n"
   ]
  },
  {
   "cell_type": "code",
   "execution_count": null,
   "metadata": {},
   "outputs": [],
   "source": [
    "print(mat_contents['meta'])\r\n",
    "\r\n",
    "# for i in range(21):\r\n",
    "#    if 'conv' in (mat_contents['layers'][0][i][0][0][0][0]):\r\n",
    "#        print (mat_contents['layers'][0][i][0][0])"
   ]
  },
  {
   "cell_type": "code",
   "execution_count": null,
   "metadata": {},
   "outputs": [],
   "source": [
    "model = layers.VGG_M()\r\n",
    "param_dict = model.state_dict()\r\n",
    "keys = list(param_dict.keys())\r\n",
    "print(param_dict['conv1.0.bias'])"
   ]
  },
  {
   "cell_type": "code",
   "execution_count": 36,
   "metadata": {},
   "outputs": [],
   "source": [
    "key_index = 0\r\n",
    "\r\n",
    "for i in range(21):\r\n",
    "    if 'conv' in mat_contents['layers'][0][i][0][0][0][0]:\r\n",
    "        weight = torch.from_numpy(mat_contents['layers'][0][0][0][0][2][0][0])\r\n",
    "        bias = torch.from_numpy(mat_contents['layers'][0][0][0][0][2][0][1])\r\n",
    "        param_dict[keys[key_index]] = weight.permute([-1, -2, -4, -3])\r\n",
    "        param_dict[keys[key_index + 1]] = torch.squeeze(bias)\r\n",
    "    "
   ]
  },
  {
   "cell_type": "code",
   "execution_count": null,
   "metadata": {},
   "outputs": [],
   "source": [
    "param_dict['conv1.0.bias']"
   ]
  },
  {
   "cell_type": "code",
   "execution_count": null,
   "metadata": {},
   "outputs": [],
   "source": [
    "model.state_dict() ['conv1.0.bias']"
   ]
  },
  {
   "cell_type": "code",
   "execution_count": 45,
   "metadata": {},
   "outputs": [
    {
     "name": "stdout",
     "output_type": "stream",
     "text": [
      "C:\\Users\\Dell\\Desktop\\毕业设计\\code\\DeepDCF\n"
     ]
    }
   ],
   "source": [
    "import os\r\n",
    "print(os.path.realpath('.'))"
   ]
  },
  {
   "cell_type": "code",
   "execution_count": 46,
   "metadata": {},
   "outputs": [],
   "source": [
    "torch.save(model.state_dict(), 'vgg_param.pth')"
   ]
  },
  {
   "cell_type": "code",
   "execution_count": null,
   "metadata": {},
   "outputs": [],
   "source": [
    "model2 = layers.VGG_M()\r\n",
    "model2.load_state_dict(torch.load('vgg_param.pth'))\r\n",
    "for (k,v) in model2.state_dict().items():\r\n",
    "    print(v.shape)"
   ]
  }
 ],
 "metadata": {
  "kernelspec": {
   "display_name": "Python 3.8.8 64-bit",
   "name": "python388jvsc74a57bd0241ed63ac3125269ccfabb3855d19e1ea73e07c2d25739720368db2e6952ce23"
  },
  "language_info": {
   "codemirror_mode": {
    "name": "ipython",
    "version": 3
   },
   "file_extension": ".py",
   "mimetype": "text/x-python",
   "name": "python",
   "nbconvert_exporter": "python",
   "pygments_lexer": "ipython3",
   "version": "3.8.8"
  },
  "orig_nbformat": 2
 },
 "nbformat": 4,
 "nbformat_minor": 2
}